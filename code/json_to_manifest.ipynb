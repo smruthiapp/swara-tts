{
 "cells": [
  {
   "cell_type": "code",
   "execution_count": 47,
   "metadata": {},
   "outputs": [],
   "source": [
    "import json\n",
    "\n",
    "# File path\n",
    "file_path = 'gitaSupersite.json'\n",
    "\n",
    "# Open and read the JSON file\n",
    "with open(file_path, 'r', encoding='utf-8') as file:\n",
    "    # Load the JSON data from the file\n",
    "    data = json.load(file)\n",
    "\n"
   ]
  },
  {
   "cell_type": "code",
   "execution_count": 48,
   "metadata": {},
   "outputs": [],
   "source": [
    "import re\n",
    "def clean_string(input_str):\n",
    "    # Remove all text between ||...|| including the || symbols\n",
    "    # marker = '||'\n",
    "    # pattern = re.compile(rf'{marker}.*?{marker}', re.DOTALL)\n",
    "    # cleaned_str = re.sub(pattern, '', input_str)\n",
    "    cleaned_str = input_str\n",
    "    # Remove newline characters\n",
    "    cleaned_str = cleaned_str.replace('\\n', ' ')\n",
    "    # Remove commas\n",
    "    cleaned_str = cleaned_str.replace(',', ' ')\n",
    "    # Remove all remaining | symbols\n",
    "    cleaned_str = cleaned_str.replace('|', ' ')\n",
    "    stri = ''\n",
    "    for i in range (0,len(cleaned_str)) :\n",
    "        if cleaned_str[i]=='।' and cleaned_str[i+1]=='।' :\n",
    "            return stri \n",
    "        elif  cleaned_str[i]=='।'  :\n",
    "            continue \n",
    "        else :\n",
    "            stri+=cleaned_str[i]\n",
    "    return stri"
   ]
  },
  {
   "cell_type": "code",
   "execution_count": 49,
   "metadata": {},
   "outputs": [
    {
     "name": "stdout",
     "output_type": "stream",
     "text": [
      "1\n",
      "2\n",
      "3\n",
      "4\n",
      "5\n",
      "6\n",
      "7\n",
      "8\n",
      "9\n",
      "10\n",
      "11\n",
      "12\n",
      "13\n",
      "14\n",
      "15\n",
      "16\n",
      "17\n",
      "18\n"
     ]
    }
   ],
   "source": [
    "output_file_path = 'GitaSupersitemanifest.json'\n",
    "with open(output_file_path, 'w', encoding='utf-8') as file:\n",
    "    for entry in data:\n",
    "\n",
    "        temp = {}\n",
    "        temp['text'] = clean_string(entry[\"text\"])\n",
    "        if (entry[\"verse\"]==1) :\n",
    "            print (entry[\"chapter\"])\n",
    "        temp['speaker'] = 'male'\n",
    "        temp['audio_filepath'] = f'/home/tts/ttsteam/datasets/swara/Audio Files/GitaSupersite/{entry[\"chapter\"]}-{entry[\"verse\"]}.wav'\n",
    "       \n",
    "        \n",
    "        json_line = json.dumps(temp, ensure_ascii=False)\n",
    "        file.write(json_line + '\\n')"
   ]
  }
 ],
 "metadata": {
  "kernelspec": {
   "display_name": "Python 3",
   "language": "python",
   "name": "python3"
  },
  "language_info": {
   "codemirror_mode": {
    "name": "ipython",
    "version": 3
   },
   "file_extension": ".py",
   "mimetype": "text/x-python",
   "name": "python",
   "nbconvert_exporter": "python",
   "pygments_lexer": "ipython3",
   "version": "3.12.5"
  }
 },
 "nbformat": 4,
 "nbformat_minor": 2
}
