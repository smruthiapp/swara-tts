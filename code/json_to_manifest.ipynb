{
 "cells": [
  {
   "cell_type": "code",
   "execution_count": 1,
   "metadata": {},
   "outputs": [],
   "source": [
    "import json\n",
    "\n",
    "# File path\n",
    "file_path = 'gitaSupersite.json'\n",
    "\n",
    "# Open and read the JSON file\n",
    "with open(file_path, 'r', encoding='utf-8') as file:\n",
    "    # Load the JSON data from the file\n",
    "    data = json.load(file)\n",
    "\n"
   ]
  },
  {
   "cell_type": "code",
   "execution_count": 3,
   "metadata": {},
   "outputs": [],
   "source": [
    "output_file_path = 'shlokasmanifest.json'\n",
    "with open(output_file_path, 'w', encoding='utf-8') as file:\n",
    "    for entry in data:\n",
    "\n",
    "        temp = {}\n",
    "        temp['text'] = entry['text']\n",
    "        temp['speaker'] = 'female'\n",
    "        temp['audio_filepath'] = f'/home/tts/ttsteam/datasets/swara/Audio Files/GitaSupersite/{entry[\"chapter\"]}-{entry[\"verse\"]}.wav'\n",
    "\n",
    "        json_line = json.dumps(temp, ensure_ascii=False)\n",
    "        file.write(json_line + '\\n')"
   ]
  }
 ],
 "metadata": {
  "kernelspec": {
   "display_name": "Python 3",
   "language": "python",
   "name": "python3"
  },
  "language_info": {
   "codemirror_mode": {
    "name": "ipython",
    "version": 3
   },
   "file_extension": ".py",
   "mimetype": "text/x-python",
   "name": "python",
   "nbconvert_exporter": "python",
   "pygments_lexer": "ipython3",
   "version": "3.12.5"
  }
 },
 "nbformat": 4,
 "nbformat_minor": 2
}
